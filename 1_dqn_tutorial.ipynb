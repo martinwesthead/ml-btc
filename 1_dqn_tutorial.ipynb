{
 "cells": [
  {
   "cell_type": "markdown",
   "metadata": {
    "colab_type": "text",
    "id": "klGNgWREsvQv"
   },
   "source": [
    "##### Copyright 2018 The TF-Agents Authors."
   ]
  },
  {
   "cell_type": "code",
   "execution_count": 1,
   "metadata": {
    "cellView": "form",
    "colab": {},
    "colab_type": "code",
    "id": "nQnmcm0oI1Q-"
   },
   "outputs": [],
   "source": [
    "#@title Licensed under the Apache License, Version 2.0 (the \"License\");\n",
    "# you may not use this file except in compliance with the License.\n",
    "# You may obtain a copy of the License at\n",
    "#\n",
    "# https://www.apache.org/licenses/LICENSE-2.0\n",
    "#\n",
    "# Unless required by applicable law or agreed to in writing, software\n",
    "# distributed under the License is distributed on an \"AS IS\" BASIS,\n",
    "# WITHOUT WARRANTIES OR CONDITIONS OF ANY KIND, either express or implied.\n",
    "# See the License for the specific language governing permissions and\n",
    "# limitations under the License."
   ]
  },
  {
   "cell_type": "markdown",
   "metadata": {
    "colab_type": "text",
    "id": "pmDI-h7cI0tI"
   },
   "source": [
    "# Train a Deep Q Network with TF-Agents\n",
    "\n",
    "<table class=\"tfo-notebook-buttons\" align=\"left\">\n",
    "  <td>\n",
    "    <a target=\"_blank\" href=\"https://www.tensorflow.org/agents/tutorials/1_dqn_tutorial\">\n",
    "    <img src=\"https://www.tensorflow.org/images/tf_logo_32px.png\" />\n",
    "    View on TensorFlow.org</a>\n",
    "  </td>\n",
    "  <td>\n",
    "    <a target=\"_blank\" href=\"https://colab.research.google.com/github/tensorflow/agents/blob/master/docs/tutorials/1_dqn_tutorial.ipynb\">\n",
    "    <img src=\"https://www.tensorflow.org/images/colab_logo_32px.png\" />\n",
    "    Run in Google Colab</a>\n",
    "  </td>\n",
    "  <td>\n",
    "    <a target=\"_blank\" href=\"https://github.com/tensorflow/agents/blob/master/docs/tutorials/1_dqn_tutorial.ipynb\">\n",
    "    <img src=\"https://www.tensorflow.org/images/GitHub-Mark-32px.png\" />\n",
    "    View source on GitHub</a>\n",
    "  </td>\n",
    "  <td>\n",
    "    <a href=\"https://storage.googleapis.com/tensorflow_docs/agents/docs/tutorials/1_dqn_tutorial.ipynb\"><img src=\"https://www.tensorflow.org/images/download_logo_32px.png\" />Download notebook</a>\n",
    "  </td>\n",
    "</table>"
   ]
  },
  {
   "cell_type": "markdown",
   "metadata": {
    "colab_type": "text",
    "id": "lsaQlK8fFQqH"
   },
   "source": [
    "## Introduction\n"
   ]
  },
  {
   "cell_type": "markdown",
   "metadata": {
    "colab_type": "text",
    "id": "cKOCZlhUgXVK"
   },
   "source": [
    "This example shows how to train a [DQN (Deep Q Networks)](https://storage.googleapis.com/deepmind-media/dqn/DQNNaturePaper.pdf)  agent on the Cartpole environment using the TF-Agents library.\n",
    "\n",
    "![Cartpole environment](https://raw.githubusercontent.com/tensorflow/agents/master/docs/tutorials/images/cartpole.png)\n",
    "\n",
    "It will walk you through all the components in a Reinforcement Learning (RL) pipeline for training, evaluation and data collection.\n",
    "\n",
    "\n",
    "To run this code live, click the 'Run in Google Colab' link above.\n"
   ]
  },
  {
   "cell_type": "markdown",
   "metadata": {
    "colab_type": "text",
    "id": "1u9QVVsShC9X"
   },
   "source": [
    "## Setup"
   ]
  },
  {
   "cell_type": "markdown",
   "metadata": {
    "colab_type": "text",
    "id": "kNrNXKI7bINP"
   },
   "source": [
    "If you haven't installed the following dependencies, run:"
   ]
  },
  {
   "cell_type": "code",
   "execution_count": 2,
   "metadata": {
    "colab": {},
    "colab_type": "code",
    "id": "KEHR2Ui-lo8O"
   },
   "outputs": [
    {
     "name": "stdout",
     "output_type": "stream",
     "text": [
      "\r",
      "Reading package lists... 0%\r",
      "\r",
      "Reading package lists... 100%\r",
      "\r",
      "Reading package lists... Done\r",
      "\r\n",
      "\r",
      "Building dependency tree... 0%\r",
      "\r",
      "Building dependency tree... 0%\r"
     ]
    },
    {
     "name": "stdout",
     "output_type": "stream",
     "text": [
      "\r",
      "Building dependency tree... 50%\r",
      "\r",
      "Building dependency tree... 50%\r"
     ]
    },
    {
     "name": "stdout",
     "output_type": "stream",
     "text": [
      "\r",
      "Building dependency tree       \r",
      "\r\n",
      "\r",
      "Reading state information... 0%\r",
      "\r",
      "Reading state information... 0%\r",
      "\r",
      "Reading state information... Done\r",
      "\r\n"
     ]
    },
    {
     "name": "stdout",
     "output_type": "stream",
     "text": [
      "ffmpeg is already the newest version (7:3.4.8-0ubuntu0.2).\r\n",
      "xvfb is already the newest version (2:1.19.6-1ubuntu4.4).\r\n"
     ]
    },
    {
     "name": "stdout",
     "output_type": "stream",
     "text": [
      "The following packages were automatically installed and are no longer required:\r\n",
      "  dconf-gsettings-backend dconf-service dkms freeglut3 freeglut3-dev\r\n",
      "  glib-networking glib-networking-common glib-networking-services\r\n",
      "  gsettings-desktop-schemas libcairo-gobject2 libcolord2 libdconf1\r\n",
      "  libegl1-mesa libepoxy0 libglu1-mesa libglu1-mesa-dev libgtk-3-0\r\n",
      "  libgtk-3-common libice-dev libjansson4 libjson-glib-1.0-0\r\n",
      "  libjson-glib-1.0-common libproxy1v5 librest-0.7-0 libsm-dev\r\n",
      "  libsoup-gnome2.4-1 libsoup2.4-1 libxi-dev libxmu-dev libxmu-headers\r\n",
      "  libxnvctrl0 libxt-dev linux-gcp-headers-5.0.0-1026\r\n",
      "  linux-headers-5.0.0-1026-gcp linux-image-5.0.0-1026-gcp\r\n",
      "  linux-modules-5.0.0-1026-gcp pkg-config policykit-1-gnome python3-xkit\r\n",
      "  screen-resolution-extra xserver-xorg-core-hwe-18.04\r\n",
      "Use 'sudo apt autoremove' to remove them.\r\n"
     ]
    },
    {
     "name": "stdout",
     "output_type": "stream",
     "text": [
      "0 upgraded, 0 newly installed, 0 to remove and 90 not upgraded.\r\n"
     ]
    },
    {
     "name": "stdout",
     "output_type": "stream",
     "text": [
      "\u001b[33mWARNING: You are using pip version 20.1.1; however, version 20.2 is available.\r\n",
      "You should consider upgrading via the '/tmpfs/src/tf_docs_env/bin/python -m pip install --upgrade pip' command.\u001b[0m\r\n"
     ]
    },
    {
     "name": "stdout",
     "output_type": "stream",
     "text": [
      "\u001b[33mWARNING: You are using pip version 20.1.1; however, version 20.2 is available.\r\n",
      "You should consider upgrading via the '/tmpfs/src/tf_docs_env/bin/python -m pip install --upgrade pip' command.\u001b[0m\r\n"
     ]
    },
    {
     "name": "stdout",
     "output_type": "stream",
     "text": [
      "\u001b[33mWARNING: You are using pip version 20.1.1; however, version 20.2 is available.\r\n",
      "You should consider upgrading via the '/tmpfs/src/tf_docs_env/bin/python -m pip install --upgrade pip' command.\u001b[0m\r\n"
     ]
    },
    {
     "name": "stdout",
     "output_type": "stream",
     "text": [
      "\u001b[33mWARNING: You are using pip version 20.1.1; however, version 20.2 is available.\r\n",
      "You should consider upgrading via the '/tmpfs/src/tf_docs_env/bin/python -m pip install --upgrade pip' command.\u001b[0m\r\n"
     ]
    },
    {
     "name": "stdout",
     "output_type": "stream",
     "text": [
      "\u001b[33mWARNING: You are using pip version 20.1.1; however, version 20.2 is available.\r\n",
      "You should consider upgrading via the '/tmpfs/src/tf_docs_env/bin/python -m pip install --upgrade pip' command.\u001b[0m\r\n"
     ]
    },
    {
     "name": "stdout",
     "output_type": "stream",
     "text": [
      "\u001b[33mWARNING: You are using pip version 20.1.1; however, version 20.2 is available.\r\n",
      "You should consider upgrading via the '/tmpfs/src/tf_docs_env/bin/python -m pip install --upgrade pip' command.\u001b[0m\r\n"
     ]
    }
   ],
   "source": [
    "!sudo apt-get install -y xvfb ffmpeg\n",
    "!pip install -q 'gym==0.10.11'\n",
    "!pip install -q 'imageio==2.4.0'\n",
    "!pip install -q PILLOW\n",
    "!pip install -q 'pyglet==1.3.2'\n",
    "!pip install -q pyvirtualdisplay\n",
    "!pip install -q --pre tf-agents[reverb]"
   ]
  },
  {
   "cell_type": "code",
   "execution_count": 3,
   "metadata": {
    "colab": {},
    "colab_type": "code",
    "id": "sMitx5qSgJk1"
   },
   "outputs": [],
   "source": [
    "from __future__ import absolute_import, division, print_function\n",
    "\n",
    "import base64\n",
    "import imageio\n",
    "import IPython\n",
    "import matplotlib\n",
    "import matplotlib.pyplot as plt\n",
    "import numpy as np\n",
    "import PIL.Image\n",
    "import pyvirtualdisplay\n",
    "\n",
    "import tensorflow as tf\n",
    "\n",
    "from tf_agents.agents.dqn import dqn_agent\n",
    "from tf_agents.drivers import dynamic_step_driver\n",
    "from tf_agents.environments import suite_gym\n",
    "from tf_agents.environments import tf_py_environment\n",
    "from tf_agents.eval import metric_utils\n",
    "from tf_agents.metrics import tf_metrics\n",
    "from tf_agents.networks import q_network\n",
    "from tf_agents.policies import random_tf_policy\n",
    "from tf_agents.replay_buffers import tf_uniform_replay_buffer\n",
    "from tf_agents.trajectories import trajectory\n",
    "from tf_agents.utils import common"
   ]
  },
  {
   "cell_type": "code",
   "execution_count": 4,
   "metadata": {
    "colab": {},
    "colab_type": "code",
    "id": "J6HsdS5GbSjd"
   },
   "outputs": [],
   "source": [
    "tf.compat.v1.enable_v2_behavior()\n",
    "\n",
    "# Set up a virtual display for rendering OpenAI gym environments.\n",
    "display = pyvirtualdisplay.Display(visible=0, size=(1400, 900)).start()"
   ]
  },
  {
   "cell_type": "code",
   "execution_count": 5,
   "metadata": {
    "colab": {},
    "colab_type": "code",
    "id": "NspmzG4nP3b9"
   },
   "outputs": [
    {
     "data": {
      "text/plain": [
       "'2.3.0'"
      ]
     },
     "execution_count": 5,
     "metadata": {},
     "output_type": "execute_result"
    }
   ],
   "source": [
    "tf.version.VERSION"
   ]
  },
  {
   "cell_type": "markdown",
   "metadata": {
    "colab_type": "text",
    "id": "LmC0NDhdLIKY"
   },
   "source": [
    "## Hyperparameters"
   ]
  },
  {
   "cell_type": "code",
   "execution_count": 6,
   "metadata": {
    "colab": {},
    "colab_type": "code",
    "id": "HC1kNrOsLSIZ"
   },
   "outputs": [],
   "source": [
    "num_iterations = 20000 # @param {type:\"integer\"}\n",
    "\n",
    "initial_collect_steps = 1000  # @param {type:\"integer\"} \n",
    "collect_steps_per_iteration = 1  # @param {type:\"integer\"}\n",
    "replay_buffer_max_length = 100000  # @param {type:\"integer\"}\n",
    "\n",
    "batch_size = 64  # @param {type:\"integer\"}\n",
    "learning_rate = 1e-3  # @param {type:\"number\"}\n",
    "log_interval = 200  # @param {type:\"integer\"}\n",
    "\n",
    "num_eval_episodes = 10  # @param {type:\"integer\"}\n",
    "eval_interval = 1000  # @param {type:\"integer\"}"
   ]
  },
  {
   "cell_type": "markdown",
   "metadata": {
    "colab_type": "text",
    "id": "VMsJC3DEgI0x"
   },
   "source": [
    "## Environment\n",
    "\n",
    "In Reinforcement Learning (RL), an environment represents the task or problem to be solved. Standard environments can be created in TF-Agents using `tf_agents.environments` suites. TF-Agents has suites for loading environments from sources such as the OpenAI Gym, Atari, and DM Control.\n",
    "\n",
    "Load the CartPole environment from the OpenAI Gym suite. "
   ]
  },
  {
   "cell_type": "code",
   "execution_count": 7,
   "metadata": {
    "colab": {},
    "colab_type": "code",
    "id": "pYEz-S9gEv2-"
   },
   "outputs": [],
   "source": [
    "env_name = 'CartPole-v0'\n",
    "env = suite_gym.load(env_name)"
   ]
  },
  {
   "cell_type": "markdown",
   "metadata": {
    "colab_type": "text",
    "id": "IIHYVBkuvPNw"
   },
   "source": [
    "You can render this environment to see how it looks. A free-swinging pole is attached to a cart.  The goal is to move the cart right or left in order to keep the pole pointing up."
   ]
  },
  {
   "cell_type": "code",
   "execution_count": 8,
   "metadata": {
    "colab": {},
    "colab_type": "code",
    "id": "RlO7WIQHu_7D"
   },
   "outputs": [
    {
     "data": {
      "image/png": "[encoded data removed]",
      "text/plain": [
       "<PIL.Image.Image image mode=RGB size=600x400 at 0x7F49D17F3940>"
      ]
     },
     "execution_count": 8,
     "metadata": {},
     "output_type": "execute_result"
    }
   ],
   "source": [
    "#@test {\"skip\": true}\n",
    "env.reset()\n",
    "PIL.Image.fromarray(env.render())"
   ]
  },
  {
   "cell_type": "markdown",
   "metadata": {
    "colab_type": "text",
    "id": "B9_lskPOey18"
   },
   "source": [
    "The `environment.step` method takes an `action` in the environment and returns a `TimeStep` tuple containing the next observation of the environment and the reward for the action.\n",
    "\n",
    "The `time_step_spec()` method returns the specification for the `TimeStep` tuple. Its `observation` attribute shows the shape of observations, the data types, and the ranges of allowed values. The `reward` attribute shows the same details for the reward.\n"
   ]
  },
  {
   "cell_type": "code",
   "execution_count": 9,
   "metadata": {
    "colab": {},
    "colab_type": "code",
    "id": "exDv57iHfwQV"
   },
   "outputs": [
    {
     "name": "stdout",
     "output_type": "stream",
     "text": [
      "Observation Spec:\n",
      "BoundedArraySpec(shape=(4,), dtype=dtype('float32'), name='observation', minimum=[-4.8000002e+00 -3.4028235e+38 -4.1887903e-01 -3.4028235e+38], maximum=[4.8000002e+00 3.4028235e+38 4.1887903e-01 3.4028235e+38])\n"
     ]
    }
   ],
   "source": [
    "print('Observation Spec:')\n",
    "print(env.time_step_spec().observation)"
   ]
  },
  {
   "cell_type": "code",
   "execution_count": 10,
   "metadata": {
    "colab": {},
    "colab_type": "code",
    "id": "UxiSyCbBUQPi"
   },
   "outputs": [
    {
     "name": "stdout",
     "output_type": "stream",
     "text": [
      "Reward Spec:\n",
      "ArraySpec(shape=(), dtype=dtype('float32'), name='reward')\n"
     ]
    }
   ],
   "source": [
    "print('Reward Spec:')\n",
    "print(env.time_step_spec().reward)"
   ]
  },
  {
   "cell_type": "markdown",
   "metadata": {
    "colab_type": "text",
    "id": "b_lHcIcqUaqB"
   },
   "source": [
    "The `action_spec()` method returns the shape, data types, and allowed values of valid actions."
   ]
  },
  {
   "cell_type": "code",
   "execution_count": 11,
   "metadata": {
    "colab": {},
    "colab_type": "code",
    "id": "bttJ4uxZUQBr"
   },
   "outputs": [
    {
     "name": "stdout",
     "output_type": "stream",
     "text": [
      "Action Spec:\n",
      "BoundedArraySpec(shape=(), dtype=dtype('int64'), name='action', minimum=0, maximum=1)\n"
     ]
    }
   ],
   "source": [
    "print('Action Spec:')\n",
    "print(env.action_spec())"
   ]
  },
  {
   "cell_type": "markdown",
   "metadata": {
    "colab_type": "text",
    "id": "eJCgJnx3g0yY"
   },
   "source": [
    "In the Cartpole environment:\n",
    "\n",
    "-   `observation` is an array of 4 floats: \n",
    "    -   the position and velocity of the cart\n",
    "    -   the angular position and velocity of the pole \n",
    "-   `reward` is a scalar float value\n",
    "-   `action` is a scalar integer with only two possible values:\n",
    "    -   `0` — \"move left\"\n",
    "    -   `1` — \"move right\"\n"
   ]
  },
  {
   "cell_type": "code",
   "execution_count": 12,
   "metadata": {
    "colab": {},
    "colab_type": "code",
    "id": "V2UGR5t_iZX-"
   },
   "outputs": [
    {
     "name": "stdout",
     "output_type": "stream",
     "text": [
      "Time step:\n",
      "TimeStep(step_type=array(0, dtype=int32), reward=array(0., dtype=float32), discount=array(1., dtype=float32), observation=array([ 0.03945196, -0.01603654, -0.02420856,  0.01585053], dtype=float32))\n",
      "Next time step:\n",
      "TimeStep(step_type=array(1, dtype=int32), reward=array(1., dtype=float32), discount=array(1., dtype=float32), observation=array([ 0.03913123,  0.17942408, -0.02389155, -0.2843711 ], dtype=float32))\n"
     ]
    }
   ],
   "source": [
    "time_step = env.reset()\n",
    "print('Time step:')\n",
    "print(time_step)\n",
    "\n",
    "action = np.array(1, dtype=np.int32)\n",
    "\n",
    "next_time_step = env.step(action)\n",
    "print('Next time step:')\n",
    "print(next_time_step)"
   ]
  },
  {
   "cell_type": "markdown",
   "metadata": {
    "colab_type": "text",
    "id": "4JSc9GviWUBK"
   },
   "source": [
    "Usually two environments are instantiated: one for training and one for evaluation. "
   ]
  },
  {
   "cell_type": "code",
   "execution_count": 13,
   "metadata": {
    "colab": {},
    "colab_type": "code",
    "id": "N7brXNIGWXjC"
   },
   "outputs": [],
   "source": [
    "train_py_env = suite_gym.load(env_name)\n",
    "eval_py_env = suite_gym.load(env_name)"
   ]
  },
  {
   "cell_type": "markdown",
   "metadata": {
    "colab_type": "text",
    "id": "zuUqXAVmecTU"
   },
   "source": [
    "The Cartpole environment, like most environments, is written in pure Python. This is converted to TensorFlow using the `TFPyEnvironment` wrapper.\n",
    "\n",
    "The original environment's API uses Numpy arrays. The `TFPyEnvironment` converts these to `Tensors` to make it compatible with Tensorflow agents and policies.\n"
   ]
  },
  {
   "cell_type": "code",
   "execution_count": 14,
   "metadata": {
    "colab": {},
    "colab_type": "code",
    "id": "Xp-Y4mD6eDhF"
   },
   "outputs": [],
   "source": [
    "train_env = tf_py_environment.TFPyEnvironment(train_py_env)\n",
    "eval_env = tf_py_environment.TFPyEnvironment(eval_py_env)"
   ]
  },
  {
   "cell_type": "markdown",
   "metadata": {
    "colab_type": "text",
    "id": "E9lW_OZYFR8A"
   },
   "source": [
    "## Agent\n",
    "\n",
    "The algorithm used to solve an RL problem is represented by an `Agent`. TF-Agents provides standard implementations of a variety of `Agents`, including:\n",
    "\n",
    "-   [DQN](https://storage.googleapis.com/deepmind-media/dqn/DQNNaturePaper.pdf) (used in this tutorial)\n",
    "-   [REINFORCE](http://www-anw.cs.umass.edu/~barto/courses/cs687/williams92simple.pdf)\n",
    "-   [DDPG](https://arxiv.org/pdf/1509.02971.pdf)\n",
    "-   [TD3](https://arxiv.org/pdf/1802.09477.pdf)\n",
    "-   [PPO](https://arxiv.org/abs/1707.06347)\n",
    "-   [SAC](https://arxiv.org/abs/1801.01290).\n",
    "\n",
    "The DQN agent can be used in any environment which has a discrete action space.\n",
    "\n",
    "At the heart of a DQN Agent is a `QNetwork`, a neural network model that can learn to predict `QValues` (expected returns) for all actions, given an observation from the environment.\n",
    "\n",
    "Use `tf_agents.networks.q_network` to create a `QNetwork`, passing in the `observation_spec`, `action_spec`, and a tuple describing the number and size of the model's hidden layers.\n"
   ]
  },
  {
   "cell_type": "code",
   "execution_count": 15,
   "metadata": {
    "colab": {},
    "colab_type": "code",
    "id": "TgkdEPg_muzV"
   },
   "outputs": [],
   "source": [
    "fc_layer_params = (100,)\n",
    "\n",
    "q_net = q_network.QNetwork(\n",
    "    train_env.observation_spec(),\n",
    "    train_env.action_spec(),\n",
    "    fc_layer_params=fc_layer_params)"
   ]
  },
  {
   "cell_type": "markdown",
   "metadata": {
    "colab_type": "text",
    "id": "z62u55hSmviJ"
   },
   "source": [
    "Now use `tf_agents.agents.dqn.dqn_agent` to instantiate a `DqnAgent`. In addition to the `time_step_spec`, `action_spec` and the QNetwork, the agent constructor also requires an optimizer (in this case, `AdamOptimizer`), a loss function, and an integer step counter."
   ]
  },
  {
   "cell_type": "code",
   "execution_count": 16,
   "metadata": {
    "colab": {},
    "colab_type": "code",
    "id": "jbY4yrjTEyc9"
   },
   "outputs": [],
   "source": [
    "optimizer = tf.compat.v1.train.AdamOptimizer(learning_rate=learning_rate)\n",
    "\n",
    "train_step_counter = tf.Variable(0)\n",
    "\n",
    "agent = dqn_agent.DqnAgent(\n",
    "    train_env.time_step_spec(),\n",
    "    train_env.action_spec(),\n",
    "    q_network=q_net,\n",
    "    optimizer=optimizer,\n",
    "    td_errors_loss_fn=common.element_wise_squared_loss,\n",
    "    train_step_counter=train_step_counter)\n",
    "\n",
    "agent.initialize()"
   ]
  },
  {
   "cell_type": "markdown",
   "metadata": {
    "colab_type": "text",
    "id": "I0KLrEPwkn5x"
   },
   "source": [
    "## Policies\n",
    "\n",
    "A policy defines the way an agent acts in an environment. Typically, the goal of reinforcement learning is to train the underlying model until the policy produces the desired outcome.\n",
    "\n",
    "In this tutorial:\n",
    "\n",
    "-   The desired outcome is keeping the pole balanced upright over the cart.\n",
    "-   The policy returns an action (left or right) for each `time_step` observation.\n",
    "\n",
    "Agents contain two policies: \n",
    "\n",
    "-   `agent.policy` — The main policy that is used for evaluation and deployment.\n",
    "-   `agent.collect_policy` — A second policy that is used for data collection.\n"
   ]
  },
  {
   "cell_type": "code",
   "execution_count": 17,
   "metadata": {
    "colab": {},
    "colab_type": "code",
    "id": "BwY7StuMkuV4"
   },
   "outputs": [],
   "source": [
    "eval_policy = agent.policy\n",
    "collect_policy = agent.collect_policy"
   ]
  },
  {
   "cell_type": "markdown",
   "metadata": {
    "colab_type": "text",
    "id": "2Qs1Fl3dV0ae"
   },
   "source": [
    "Policies can be created independently of agents. For example, use `tf_agents.policies.random_tf_policy` to create a policy which will randomly select an action for each `time_step`."
   ]
  },
  {
   "cell_type": "code",
   "execution_count": 18,
   "metadata": {
    "colab": {},
    "colab_type": "code",
    "id": "HE37-UCIrE69"
   },
   "outputs": [],
   "source": [
    "random_policy = random_tf_policy.RandomTFPolicy(train_env.time_step_spec(),\n",
    "                                                train_env.action_spec())"
   ]
  },
  {
   "cell_type": "markdown",
   "metadata": {
    "colab_type": "text",
    "id": "dOlnlRRsUbxP"
   },
   "source": [
    "To get an action from a policy, call the `policy.action(time_step)` method. The `time_step` contains the observation from the environment. This method returns a `PolicyStep`, which is a named tuple with three components:\n",
    "\n",
    "-   `action` — the action to be taken (in this case, `0` or `1`)\n",
    "-   `state` — used for stateful (that is, RNN-based) policies\n",
    "-   `info` — auxiliary data, such as log probabilities of actions"
   ]
  },
  {
   "cell_type": "code",
   "execution_count": 19,
   "metadata": {
    "colab": {},
    "colab_type": "code",
    "id": "5gCcpXswVAxk"
   },
   "outputs": [],
   "source": [
    "example_environment = tf_py_environment.TFPyEnvironment(\n",
    "    suite_gym.load('CartPole-v0'))"
   ]
  },
  {
   "cell_type": "code",
   "execution_count": 20,
   "metadata": {
    "colab": {},
    "colab_type": "code",
    "id": "D4DHZtq3Ndis"
   },
   "outputs": [],
   "source": [
    "time_step = example_environment.reset()"
   ]
  },
  {
   "cell_type": "code",
   "execution_count": 21,
   "metadata": {
    "colab": {},
    "colab_type": "code",
    "id": "PRFqAUzpNaAW"
   },
   "outputs": [
    {
     "data": {
      "text/plain": [
       "PolicyStep(action=<tf.Tensor: shape=(1,), dtype=int64, numpy=array([1])>, state=(), info=())"
      ]
     },
     "execution_count": 21,
     "metadata": {},
     "output_type": "execute_result"
    }
   ],
   "source": [
    "random_policy.action(time_step)"
   ]
  },
  {
   "cell_type": "markdown",
   "metadata": {
    "colab_type": "text",
    "id": "94rCXQtbUbXv"
   },
   "source": [
    "## Metrics and Evaluation\n",
    "\n",
    "The most common metric used to evaluate a policy is the average return. The return is the sum of rewards obtained while running a policy in an environment for an episode. Several episodes are run, creating an average return.\n",
    "\n",
    "The following function computes the average return of a policy, given the policy, environment, and a number of episodes.\n"
   ]
  },
  {
   "cell_type": "code",
   "execution_count": 22,
   "metadata": {
    "colab": {},
    "colab_type": "code",
    "id": "bitzHo5_UbXy"
   },
   "outputs": [],
   "source": [
    "#@test {\"skip\": true}\n",
    "def compute_avg_return(environment, policy, num_episodes=10):\n",
    "\n",
    "  total_return = 0.0\n",
    "  for _ in range(num_episodes):\n",
    "\n",
    "    time_step = environment.reset()\n",
    "    episode_return = 0.0\n",
    "\n",
    "    while not time_step.is_last():\n",
    "      action_step = policy.action(time_step)\n",
    "      time_step = environment.step(action_step.action)\n",
    "      episode_return += time_step.reward\n",
    "    total_return += episode_return\n",
    "\n",
    "  avg_return = total_return / num_episodes\n",
    "  return avg_return.numpy()[0]\n",
    "\n",
    "\n",
    "# See also the metrics module for standard implementations of different metrics.\n",
    "# https://github.com/tensorflow/agents/tree/master/tf_agents/metrics"
   ]
  },
  {
   "cell_type": "markdown",
   "metadata": {
    "colab_type": "text",
    "id": "_snCVvq5Z8lJ"
   },
   "source": [
    "Running this computation on the `random_policy` shows a baseline performance in the environment."
   ]
  },
  {
   "cell_type": "code",
   "execution_count": 23,
   "metadata": {
    "colab": {},
    "colab_type": "code",
    "id": "9bgU6Q6BZ8Bp"
   },
   "outputs": [
    {
     "data": {
      "text/plain": [
       "21.2"
      ]
     },
     "execution_count": 23,
     "metadata": {},
     "output_type": "execute_result"
    }
   ],
   "source": [
    "compute_avg_return(eval_env, random_policy, num_eval_episodes)"
   ]
  },
  {
   "cell_type": "markdown",
   "metadata": {
    "colab_type": "text",
    "id": "NLva6g2jdWgr"
   },
   "source": [
    "## Replay Buffer\n",
    "\n",
    "The replay buffer keeps track of data collected from the environment. This tutorial uses `tf_agents.replay_buffers.tf_uniform_replay_buffer.TFUniformReplayBuffer`, as it is the most common. \n",
    "\n",
    "The constructor requires the specs for the data it will be collecting. This is available from the agent using the `collect_data_spec` method. The batch size and maximum buffer length are also required.\n"
   ]
  },
  {
   "cell_type": "code",
   "execution_count": 24,
   "metadata": {
    "colab": {},
    "colab_type": "code",
    "id": "vX2zGUWJGWAl"
   },
   "outputs": [],
   "source": [
    "replay_buffer = tf_uniform_replay_buffer.TFUniformReplayBuffer(\n",
    "    data_spec=agent.collect_data_spec,\n",
    "    batch_size=train_env.batch_size,\n",
    "    max_length=replay_buffer_max_length)"
   ]
  },
  {
   "cell_type": "markdown",
   "metadata": {
    "colab_type": "text",
    "id": "ZGNTDJpZs4NN"
   },
   "source": [
    "For most agents, `collect_data_spec` is a named tuple called `Trajectory`, containing the specs for observations, actions, rewards, and other items."
   ]
  },
  {
   "cell_type": "code",
   "execution_count": 25,
   "metadata": {
    "colab": {},
    "colab_type": "code",
    "id": "_IZ-3HcqgE1z"
   },
   "outputs": [
    {
     "data": {
      "text/plain": [
       "Trajectory(step_type=TensorSpec(shape=(), dtype=tf.int32, name='step_type'), observation=BoundedTensorSpec(shape=(4,), dtype=tf.float32, name='observation', minimum=array([-4.8000002e+00, -3.4028235e+38, -4.1887903e-01, -3.4028235e+38],\n",
       "      dtype=float32), maximum=array([4.8000002e+00, 3.4028235e+38, 4.1887903e-01, 3.4028235e+38],\n",
       "      dtype=float32)), action=BoundedTensorSpec(shape=(), dtype=tf.int64, name='action', minimum=array(0), maximum=array(1)), policy_info=(), next_step_type=TensorSpec(shape=(), dtype=tf.int32, name='step_type'), reward=TensorSpec(shape=(), dtype=tf.float32, name='reward'), discount=BoundedTensorSpec(shape=(), dtype=tf.float32, name='discount', minimum=array(0., dtype=float32), maximum=array(1., dtype=float32)))"
      ]
     },
     "execution_count": 25,
     "metadata": {},
     "output_type": "execute_result"
    }
   ],
   "source": [
    "agent.collect_data_spec"
   ]
  },
  {
   "cell_type": "code",
   "execution_count": 26,
   "metadata": {
    "colab": {},
    "colab_type": "code",
    "id": "sy6g1tGcfRlw"
   },
   "outputs": [
    {
     "data": {
      "text/plain": [
       "('step_type',\n",
       " 'observation',\n",
       " 'action',\n",
       " 'policy_info',\n",
       " 'next_step_type',\n",
       " 'reward',\n",
       " 'discount')"
      ]
     },
     "execution_count": 26,
     "metadata": {},
     "output_type": "execute_result"
    }
   ],
   "source": [
    "agent.collect_data_spec._fields"
   ]
  },
  {
   "cell_type": "markdown",
   "metadata": {
    "colab_type": "text",
    "id": "rVD5nQ9ZGo8_"
   },
   "source": [
    "## Data Collection\n",
    "\n",
    "Now execute the random policy in the environment for a few steps, recording the data in the replay buffer."
   ]
  },
  {
   "cell_type": "code",
   "execution_count": 27,
   "metadata": {
    "colab": {},
    "colab_type": "code",
    "id": "wr1KSAEGG4h9"
   },
   "outputs": [],
   "source": [
    "#@test {\"skip\": true}\n",
    "def collect_step(environment, policy, buffer):\n",
    "  time_step = environment.current_time_step()\n",
    "  action_step = policy.action(time_step)\n",
    "  next_time_step = environment.step(action_step.action)\n",
    "  traj = trajectory.from_transition(time_step, action_step, next_time_step)\n",
    "\n",
    "  # Add trajectory to the replay buffer\n",
    "  buffer.add_batch(traj)\n",
    "\n",
    "def collect_data(env, policy, buffer, steps):\n",
    "  for _ in range(steps):\n",
    "    collect_step(env, policy, buffer)\n",
    "\n",
    "collect_data(train_env, random_policy, replay_buffer, steps=100)\n",
    "\n",
    "# This loop is so common in RL, that we provide standard implementations. \n",
    "# For more details see the drivers module.\n",
    "# https://www.tensorflow.org/agents/api_docs/python/tf_agents/drivers"
   ]
  },
  {
   "cell_type": "markdown",
   "metadata": {
    "colab_type": "text",
    "id": "84z5pQJdoKxo"
   },
   "source": [
    "The replay buffer is now a collection of Trajectories."
   ]
  },
  {
   "cell_type": "code",
   "execution_count": 28,
   "metadata": {
    "colab": {},
    "colab_type": "code",
    "id": "4wZnLu2ViO4E"
   },
   "outputs": [],
   "source": [
    "# For the curious:\n",
    "# Uncomment to peel one of these off and inspect it.\n",
    "# iter(replay_buffer.as_dataset()).next()"
   ]
  },
  {
   "cell_type": "markdown",
   "metadata": {
    "colab_type": "text",
    "id": "TujU-PMUsKjS"
   },
   "source": [
    "The agent needs access to the replay buffer. This is provided by creating an iterable `tf.data.Dataset` pipeline which will feed data to the agent.\n",
    "\n",
    "Each row of the replay buffer only stores a single observation step. But since the DQN Agent needs both the current and next observation to compute the loss, the dataset pipeline will sample two adjacent rows for each item in the batch (`num_steps=2`).\n",
    "\n",
    "This dataset is also optimized by running parallel calls and prefetching data."
   ]
  },
  {
   "cell_type": "code",
   "execution_count": 29,
   "metadata": {
    "colab": {},
    "colab_type": "code",
    "id": "ba7bilizt_qW"
   },
   "outputs": [
    {
     "name": "stdout",
     "output_type": "stream",
     "text": [
      "WARNING:tensorflow:From /tmpfs/src/tf_docs_env/lib/python3.6/site-packages/tensorflow/python/autograph/operators/control_flow.py:1004: ReplayBuffer.get_next (from tf_agents.replay_buffers.replay_buffer) is deprecated and will be removed in a future version.\n",
      "Instructions for updating:\n",
      "Use `as_dataset(..., single_deterministic_pass=False) instead.\n"
     ]
    },
    {
     "data": {
      "text/plain": [
       "<PrefetchDataset shapes: (Trajectory(step_type=(64, 2), observation=(64, 2, 4), action=(64, 2), policy_info=(), next_step_type=(64, 2), reward=(64, 2), discount=(64, 2)), BufferInfo(ids=(64, 2), probabilities=(64,))), types: (Trajectory(step_type=tf.int32, observation=tf.float32, action=tf.int64, policy_info=(), next_step_type=tf.int32, reward=tf.float32, discount=tf.float32), BufferInfo(ids=tf.int64, probabilities=tf.float32))>"
      ]
     },
     "execution_count": 29,
     "metadata": {},
     "output_type": "execute_result"
    }
   ],
   "source": [
    "# Dataset generates trajectories with shape [Bx2x...]\n",
    "dataset = replay_buffer.as_dataset(\n",
    "    num_parallel_calls=3, \n",
    "    sample_batch_size=batch_size, \n",
    "    num_steps=2).prefetch(3)\n",
    "\n",
    "\n",
    "dataset"
   ]
  },
  {
   "cell_type": "code",
   "execution_count": 30,
   "metadata": {
    "colab": {},
    "colab_type": "code",
    "id": "K13AST-2ppOq"
   },
   "outputs": [
    {
     "name": "stdout",
     "output_type": "stream",
     "text": [
      "<tensorflow.python.data.ops.iterator_ops.OwnedIterator object at 0x7f49c855d1d0>\n"
     ]
    }
   ],
   "source": [
    "iterator = iter(dataset)\n",
    "\n",
    "print(iterator)\n"
   ]
  },
  {
   "cell_type": "code",
   "execution_count": 31,
   "metadata": {
    "colab": {},
    "colab_type": "code",
    "id": "Th5w5Sff0b16"
   },
   "outputs": [],
   "source": [
    "# For the curious:\n",
    "# Uncomment to see what the dataset iterator is feeding to the agent.\n",
    "# Compare this representation of replay data \n",
    "# to the collection of individual trajectories shown earlier.\n",
    "\n",
    "# iterator.next()"
   ]
  },
  {
   "cell_type": "markdown",
   "metadata": {
    "colab_type": "text",
    "id": "hBc9lj9VWWtZ"
   },
   "source": [
    "## Training the agent\n",
    "\n",
    "Two things must happen during the training loop:\n",
    "\n",
    "-   collect data from the environment\n",
    "-   use that data to train the agent's neural network(s)\n",
    "\n",
    "This example also periodicially evaluates the policy and prints the current score.\n",
    "\n",
    "The following will take ~5 minutes to run."
   ]
  },
  {
   "cell_type": "code",
   "execution_count": 32,
   "metadata": {
    "colab": {},
    "colab_type": "code",
    "id": "0pTbJ3PeyF-u"
   },
   "outputs": [
    {
     "name": "stdout",
     "output_type": "stream",
     "text": [
      "step = 200: loss = 19.690689086914062\n"
     ]
    },
    {
     "name": "stdout",
     "output_type": "stream",
     "text": [
      "step = 400: loss = 16.47402572631836\n"
     ]
    },
    {
     "name": "stdout",
     "output_type": "stream",
     "text": [
      "step = 600: loss = 4.861778736114502\n"
     ]
    },
    {
     "name": "stdout",
     "output_type": "stream",
     "text": [
      "step = 800: loss = 4.024849891662598\n"
     ]
    },
    {
     "name": "stdout",
     "output_type": "stream",
     "text": [
      "step = 1000: loss = 2.6150379180908203\n"
     ]
    },
    {
     "name": "stdout",
     "output_type": "stream",
     "text": [
      "step = 1000: Average Return = 13.899999618530273\n"
     ]
    },
    {
     "name": "stdout",
     "output_type": "stream",
     "text": [
      "step = 1200: loss = 8.585780143737793\n"
     ]
    },
    {
     "name": "stdout",
     "output_type": "stream",
     "text": [
      "step = 1400: loss = 4.644379615783691\n"
     ]
    },
    {
     "name": "stdout",
     "output_type": "stream",
     "text": [
      "step = 1600: loss = 5.039738655090332\n"
     ]
    },
    {
     "name": "stdout",
     "output_type": "stream",
     "text": [
      "step = 1800: loss = 11.336905479431152\n"
     ]
    },
    {
     "name": "stdout",
     "output_type": "stream",
     "text": [
      "step = 2000: loss = 3.268812656402588\n"
     ]
    },
    {
     "name": "stdout",
     "output_type": "stream",
     "text": [
      "step = 2000: Average Return = 33.5\n"
     ]
    },
    {
     "name": "stdout",
     "output_type": "stream",
     "text": [
      "step = 2200: loss = 11.0034761428833\n"
     ]
    },
    {
     "name": "stdout",
     "output_type": "stream",
     "text": [
      "step = 2400: loss = 16.17085075378418\n"
     ]
    },
    {
     "name": "stdout",
     "output_type": "stream",
     "text": [
      "step = 2600: loss = 5.645272254943848\n"
     ]
    },
    {
     "name": "stdout",
     "output_type": "stream",
     "text": [
      "step = 2800: loss = 9.536992073059082\n"
     ]
    },
    {
     "name": "stdout",
     "output_type": "stream",
     "text": [
      "step = 3000: loss = 27.910123825073242\n"
     ]
    },
    {
     "name": "stdout",
     "output_type": "stream",
     "text": [
      "step = 3000: Average Return = 42.5\n"
     ]
    },
    {
     "name": "stdout",
     "output_type": "stream",
     "text": [
      "step = 3200: loss = 16.461536407470703\n"
     ]
    },
    {
     "name": "stdout",
     "output_type": "stream",
     "text": [
      "step = 3400: loss = 35.99446105957031\n"
     ]
    },
    {
     "name": "stdout",
     "output_type": "stream",
     "text": [
      "step = 3600: loss = 17.244731903076172\n"
     ]
    },
    {
     "name": "stdout",
     "output_type": "stream",
     "text": [
      "step = 3800: loss = 64.8316421508789\n"
     ]
    },
    {
     "name": "stdout",
     "output_type": "stream",
     "text": [
      "step = 4000: loss = 45.81110382080078\n"
     ]
    },
    {
     "name": "stdout",
     "output_type": "stream",
     "text": [
      "step = 4000: Average Return = 66.0999984741211\n"
     ]
    },
    {
     "name": "stdout",
     "output_type": "stream",
     "text": [
      "step = 4200: loss = 38.792320251464844\n"
     ]
    },
    {
     "name": "stdout",
     "output_type": "stream",
     "text": [
      "step = 4400: loss = 24.844989776611328\n"
     ]
    },
    {
     "name": "stdout",
     "output_type": "stream",
     "text": [
      "step = 4600: loss = 62.42521667480469\n"
     ]
    },
    {
     "name": "stdout",
     "output_type": "stream",
     "text": [
      "step = 4800: loss = 5.556773662567139\n"
     ]
    },
    {
     "name": "stdout",
     "output_type": "stream",
     "text": [
      "step = 5000: loss = 56.66333770751953\n"
     ]
    },
    {
     "name": "stdout",
     "output_type": "stream",
     "text": [
      "step = 5000: Average Return = 179.1999969482422\n"
     ]
    },
    {
     "name": "stdout",
     "output_type": "stream",
     "text": [
      "step = 5200: loss = 31.51094627380371\n"
     ]
    },
    {
     "name": "stdout",
     "output_type": "stream",
     "text": [
      "step = 5400: loss = 5.266134262084961\n"
     ]
    },
    {
     "name": "stdout",
     "output_type": "stream",
     "text": [
      "step = 5600: loss = 96.6891098022461\n"
     ]
    },
    {
     "name": "stdout",
     "output_type": "stream",
     "text": [
      "step = 5800: loss = 127.47486114501953\n"
     ]
    },
    {
     "name": "stdout",
     "output_type": "stream",
     "text": [
      "step = 6000: loss = 12.055898666381836\n"
     ]
    },
    {
     "name": "stdout",
     "output_type": "stream",
     "text": [
      "step = 6000: Average Return = 193.10000610351562\n"
     ]
    },
    {
     "name": "stdout",
     "output_type": "stream",
     "text": [
      "step = 6200: loss = 27.283191680908203\n"
     ]
    },
    {
     "name": "stdout",
     "output_type": "stream",
     "text": [
      "step = 6400: loss = 8.846441268920898\n"
     ]
    },
    {
     "name": "stdout",
     "output_type": "stream",
     "text": [
      "step = 6600: loss = 19.135318756103516\n"
     ]
    },
    {
     "name": "stdout",
     "output_type": "stream",
     "text": [
      "step = 6800: loss = 279.4776916503906\n"
     ]
    },
    {
     "name": "stdout",
     "output_type": "stream",
     "text": [
      "step = 7000: loss = 41.02388000488281\n"
     ]
    },
    {
     "name": "stdout",
     "output_type": "stream",
     "text": [
      "step = 7000: Average Return = 200.0\n"
     ]
    },
    {
     "name": "stdout",
     "output_type": "stream",
     "text": [
      "step = 7200: loss = 228.2138214111328\n"
     ]
    },
    {
     "name": "stdout",
     "output_type": "stream",
     "text": [
      "step = 7400: loss = 151.24070739746094\n"
     ]
    },
    {
     "name": "stdout",
     "output_type": "stream",
     "text": [
      "step = 7600: loss = 62.31920623779297\n"
     ]
    },
    {
     "name": "stdout",
     "output_type": "stream",
     "text": [
      "step = 7800: loss = 16.921720504760742\n"
     ]
    },
    {
     "name": "stdout",
     "output_type": "stream",
     "text": [
      "step = 8000: loss = 37.32741165161133\n"
     ]
    },
    {
     "name": "stdout",
     "output_type": "stream",
     "text": [
      "step = 8000: Average Return = 200.0\n"
     ]
    },
    {
     "name": "stdout",
     "output_type": "stream",
     "text": [
      "step = 8200: loss = 35.77818298339844\n"
     ]
    },
    {
     "name": "stdout",
     "output_type": "stream",
     "text": [
      "step = 8400: loss = 56.06548309326172\n"
     ]
    },
    {
     "name": "stdout",
     "output_type": "stream",
     "text": [
      "step = 8600: loss = 388.6180114746094\n"
     ]
    },
    {
     "name": "stdout",
     "output_type": "stream",
     "text": [
      "step = 8800: loss = 98.04512023925781\n"
     ]
    },
    {
     "name": "stdout",
     "output_type": "stream",
     "text": [
      "step = 9000: loss = 102.46206665039062\n"
     ]
    },
    {
     "name": "stdout",
     "output_type": "stream",
     "text": [
      "step = 9000: Average Return = 200.0\n"
     ]
    },
    {
     "name": "stdout",
     "output_type": "stream",
     "text": [
      "step = 9200: loss = 72.02937316894531\n"
     ]
    },
    {
     "name": "stdout",
     "output_type": "stream",
     "text": [
      "step = 9400: loss = 215.56304931640625\n"
     ]
    },
    {
     "name": "stdout",
     "output_type": "stream",
     "text": [
      "step = 9600: loss = 298.1328430175781\n"
     ]
    },
    {
     "name": "stdout",
     "output_type": "stream",
     "text": [
      "step = 9800: loss = 273.0595397949219\n"
     ]
    },
    {
     "name": "stdout",
     "output_type": "stream",
     "text": [
      "step = 10000: loss = 31.24103546142578\n"
     ]
    },
    {
     "name": "stdout",
     "output_type": "stream",
     "text": [
      "step = 10000: Average Return = 200.0\n"
     ]
    },
    {
     "name": "stdout",
     "output_type": "stream",
     "text": [
      "step = 10200: loss = 493.45379638671875\n"
     ]
    },
    {
     "name": "stdout",
     "output_type": "stream",
     "text": [
      "step = 10400: loss = 321.92828369140625\n"
     ]
    },
    {
     "name": "stdout",
     "output_type": "stream",
     "text": [
      "step = 10600: loss = 127.94703674316406\n"
     ]
    },
    {
     "name": "stdout",
     "output_type": "stream",
     "text": [
      "step = 10800: loss = 105.52901458740234\n"
     ]
    },
    {
     "name": "stdout",
     "output_type": "stream",
     "text": [
      "step = 11000: loss = 10.25836181640625\n"
     ]
    },
    {
     "name": "stdout",
     "output_type": "stream",
     "text": [
      "step = 11000: Average Return = 200.0\n"
     ]
    },
    {
     "name": "stdout",
     "output_type": "stream",
     "text": [
      "step = 11200: loss = 34.508384704589844\n"
     ]
    },
    {
     "name": "stdout",
     "output_type": "stream",
     "text": [
      "step = 11400: loss = 292.8785400390625\n"
     ]
    },
    {
     "name": "stdout",
     "output_type": "stream",
     "text": [
      "step = 11600: loss = 282.56976318359375\n"
     ]
    },
    {
     "name": "stdout",
     "output_type": "stream",
     "text": [
      "step = 11800: loss = 419.93927001953125\n"
     ]
    },
    {
     "name": "stdout",
     "output_type": "stream",
     "text": [
      "step = 12000: loss = 149.61669921875\n"
     ]
    },
    {
     "name": "stdout",
     "output_type": "stream",
     "text": [
      "step = 12000: Average Return = 200.0\n"
     ]
    },
    {
     "name": "stdout",
     "output_type": "stream",
     "text": [
      "step = 12200: loss = 662.1378173828125\n"
     ]
    },
    {
     "name": "stdout",
     "output_type": "stream",
     "text": [
      "step = 12400: loss = 6264.18017578125\n"
     ]
    },
    {
     "name": "stdout",
     "output_type": "stream",
     "text": [
      "step = 12600: loss = 1844.2698974609375\n"
     ]
    },
    {
     "name": "stdout",
     "output_type": "stream",
     "text": [
      "step = 12800: loss = 1308.2515869140625\n"
     ]
    },
    {
     "name": "stdout",
     "output_type": "stream",
     "text": [
      "step = 13000: loss = 1177.77001953125\n"
     ]
    },
    {
     "name": "stdout",
     "output_type": "stream",
     "text": [
      "step = 13000: Average Return = 200.0\n"
     ]
    },
    {
     "name": "stdout",
     "output_type": "stream",
     "text": [
      "step = 13200: loss = 425.58929443359375\n"
     ]
    },
    {
     "name": "stdout",
     "output_type": "stream",
     "text": [
      "step = 13400: loss = 51.96171188354492\n"
     ]
    },
    {
     "name": "stdout",
     "output_type": "stream",
     "text": [
      "step = 13600: loss = 104.29891967773438\n"
     ]
    },
    {
     "name": "stdout",
     "output_type": "stream",
     "text": [
      "step = 13800: loss = 535.3070678710938\n"
     ]
    },
    {
     "name": "stdout",
     "output_type": "stream",
     "text": [
      "step = 14000: loss = 49.53106689453125\n"
     ]
    },
    {
     "name": "stdout",
     "output_type": "stream",
     "text": [
      "step = 14000: Average Return = 200.0\n"
     ]
    },
    {
     "name": "stdout",
     "output_type": "stream",
     "text": [
      "step = 14200: loss = 942.129638671875\n"
     ]
    },
    {
     "name": "stdout",
     "output_type": "stream",
     "text": [
      "step = 14400: loss = 52.236656188964844\n"
     ]
    },
    {
     "name": "stdout",
     "output_type": "stream",
     "text": [
      "step = 14600: loss = 69.46319580078125\n"
     ]
    },
    {
     "name": "stdout",
     "output_type": "stream",
     "text": [
      "step = 14800: loss = 60.80382537841797\n"
     ]
    },
    {
     "name": "stdout",
     "output_type": "stream",
     "text": [
      "step = 15000: loss = 784.780517578125\n"
     ]
    },
    {
     "name": "stdout",
     "output_type": "stream",
     "text": [
      "step = 15000: Average Return = 200.0\n"
     ]
    },
    {
     "name": "stdout",
     "output_type": "stream",
     "text": [
      "step = 15200: loss = 211.77589416503906\n"
     ]
    },
    {
     "name": "stdout",
     "output_type": "stream",
     "text": [
      "step = 15400: loss = 3985.186279296875\n"
     ]
    },
    {
     "name": "stdout",
     "output_type": "stream",
     "text": [
      "step = 15600: loss = 258.67987060546875\n"
     ]
    },
    {
     "name": "stdout",
     "output_type": "stream",
     "text": [
      "step = 15800: loss = 1084.543701171875\n"
     ]
    },
    {
     "name": "stdout",
     "output_type": "stream",
     "text": [
      "step = 16000: loss = 1418.936767578125\n"
     ]
    },
    {
     "name": "stdout",
     "output_type": "stream",
     "text": [
      "step = 16000: Average Return = 199.3000030517578\n"
     ]
    },
    {
     "name": "stdout",
     "output_type": "stream",
     "text": [
      "step = 16200: loss = 135.34539794921875\n"
     ]
    },
    {
     "name": "stdout",
     "output_type": "stream",
     "text": [
      "step = 16400: loss = 469.0115966796875\n"
     ]
    },
    {
     "name": "stdout",
     "output_type": "stream",
     "text": [
      "step = 16600: loss = 65.48590087890625\n"
     ]
    },
    {
     "name": "stdout",
     "output_type": "stream",
     "text": [
      "step = 16800: loss = 1503.060791015625\n"
     ]
    },
    {
     "name": "stdout",
     "output_type": "stream",
     "text": [
      "step = 17000: loss = 179.79794311523438\n"
     ]
    },
    {
     "name": "stdout",
     "output_type": "stream",
     "text": [
      "step = 17000: Average Return = 200.0\n"
     ]
    },
    {
     "name": "stdout",
     "output_type": "stream",
     "text": [
      "step = 17200: loss = 74.41525268554688\n"
     ]
    },
    {
     "name": "stdout",
     "output_type": "stream",
     "text": [
      "step = 17400: loss = 410.6675720214844\n"
     ]
    },
    {
     "name": "stdout",
     "output_type": "stream",
     "text": [
      "step = 17600: loss = 89.18785095214844\n"
     ]
    },
    {
     "name": "stdout",
     "output_type": "stream",
     "text": [
      "step = 17800: loss = 107.3138198852539\n"
     ]
    },
    {
     "name": "stdout",
     "output_type": "stream",
     "text": [
      "step = 18000: loss = 138.09153747558594\n"
     ]
    },
    {
     "name": "stdout",
     "output_type": "stream",
     "text": [
      "step = 18000: Average Return = 200.0\n"
     ]
    },
    {
     "name": "stdout",
     "output_type": "stream",
     "text": [
      "step = 18200: loss = 52.20016098022461\n"
     ]
    },
    {
     "name": "stdout",
     "output_type": "stream",
     "text": [
      "step = 18400: loss = 76.33519744873047\n"
     ]
    },
    {
     "name": "stdout",
     "output_type": "stream",
     "text": [
      "step = 18600: loss = 954.2196655273438\n"
     ]
    },
    {
     "name": "stdout",
     "output_type": "stream",
     "text": [
      "step = 18800: loss = 210.16331481933594\n"
     ]
    },
    {
     "name": "stdout",
     "output_type": "stream",
     "text": [
      "step = 19000: loss = 729.912841796875\n"
     ]
    },
    {
     "name": "stdout",
     "output_type": "stream",
     "text": [
      "step = 19000: Average Return = 200.0\n"
     ]
    },
    {
     "name": "stdout",
     "output_type": "stream",
     "text": [
      "step = 19200: loss = 80.44801330566406\n"
     ]
    },
    {
     "name": "stdout",
     "output_type": "stream",
     "text": [
      "step = 19400: loss = 4124.3759765625\n"
     ]
    },
    {
     "name": "stdout",
     "output_type": "stream",
     "text": [
      "step = 19600: loss = 54.86518859863281\n"
     ]
    },
    {
     "name": "stdout",
     "output_type": "stream",
     "text": [
      "step = 19800: loss = 144.1697235107422\n"
     ]
    },
    {
     "name": "stdout",
     "output_type": "stream",
     "text": [
      "step = 20000: loss = 28250.6171875\n"
     ]
    },
    {
     "name": "stdout",
     "output_type": "stream",
     "text": [
      "step = 20000: Average Return = 200.0\n"
     ]
    }
   ],
   "source": [
    "#@test {\"skip\": true}\n",
    "try:\n",
    "  %%time\n",
    "except:\n",
    "  pass\n",
    "\n",
    "# (Optional) Optimize by wrapping some of the code in a graph using TF function.\n",
    "agent.train = common.function(agent.train)\n",
    "\n",
    "# Reset the train step\n",
    "agent.train_step_counter.assign(0)\n",
    "\n",
    "# Evaluate the agent's policy once before training.\n",
    "avg_return = compute_avg_return(eval_env, agent.policy, num_eval_episodes)\n",
    "returns = [avg_return]\n",
    "\n",
    "for _ in range(num_iterations):\n",
    "\n",
    "  # Collect a few steps using collect_policy and save to the replay buffer.\n",
    "  for _ in range(collect_steps_per_iteration):\n",
    "    collect_step(train_env, agent.collect_policy, replay_buffer)\n",
    "\n",
    "  # Sample a batch of data from the buffer and update the agent's network.\n",
    "  experience, unused_info = next(iterator)\n",
    "  train_loss = agent.train(experience).loss\n",
    "\n",
    "  step = agent.train_step_counter.numpy()\n",
    "\n",
    "  if step % log_interval == 0:\n",
    "    print('step = {0}: loss = {1}'.format(step, train_loss))\n",
    "\n",
    "  if step % eval_interval == 0:\n",
    "    avg_return = compute_avg_return(eval_env, agent.policy, num_eval_episodes)\n",
    "    print('step = {0}: Average Return = {1}'.format(step, avg_return))\n",
    "    returns.append(avg_return)"
   ]
  },
  {
   "cell_type": "markdown",
   "metadata": {
    "colab_type": "text",
    "id": "68jNcA_TiJDq"
   },
   "source": [
    "## Visualization\n"
   ]
  },
  {
   "cell_type": "markdown",
   "metadata": {
    "colab_type": "text",
    "id": "aO-LWCdbbOIC"
   },
   "source": [
    "### Plots\n",
    "\n",
    "Use `matplotlib.pyplot` to chart how the policy improved during training.\n",
    "\n",
    "One iteration of `Cartpole-v0` consists of 200 time steps. The environment gives a reward of `+1` for each step the pole stays up, so the maximum return for one episode is 200. The charts shows the return increasing towards that maximum each time it is evaluated during training. (It may be a little unstable and not increase monotonically each time.)"
   ]
  },
  {
   "cell_type": "code",
   "execution_count": 33,
   "metadata": {
    "colab": {},
    "colab_type": "code",
    "id": "NxtL1mbOYCVO"
   },
   "outputs": [
    {
     "data": {
      "text/plain": [
       "(0.5, 250.0)"
      ]
     },
     "execution_count": 33,
     "metadata": {},
     "output_type": "execute_result"
    },
    {
     "data": {
      "image/png": "[encoded data removed]",
      "text/plain": [
       "<Figure size 432x288 with 1 Axes>"
      ]
     },
     "metadata": {
      "needs_background": "light"
     },
     "output_type": "display_data"
    }
   ],
   "source": [
    "#@test {\"skip\": true}\n",
    "\n",
    "iterations = range(0, num_iterations + 1, eval_interval)\n",
    "plt.plot(iterations, returns)\n",
    "plt.ylabel('Average Return')\n",
    "plt.xlabel('Iterations')\n",
    "plt.ylim(top=250)"
   ]
  },
  {
   "cell_type": "markdown",
   "metadata": {
    "colab_type": "text",
    "id": "M7-XpPP99Cy7"
   },
   "source": [
    "### Videos"
   ]
  },
  {
   "cell_type": "markdown",
   "metadata": {
    "colab_type": "text",
    "id": "9pGfGxSH32gn"
   },
   "source": [
    "Charts are nice. But more exciting is seeing an agent actually performing a task in an environment. \n",
    "\n",
    "First, create a function to embed videos in the notebook."
   ]
  },
  {
   "cell_type": "code",
   "execution_count": 34,
   "metadata": {
    "colab": {},
    "colab_type": "code",
    "id": "ULaGr8pvOKbl"
   },
   "outputs": [],
   "source": [
    "def embed_mp4(filename):\n",
    "  \"\"\"Embeds an mp4 file in the notebook.\"\"\"\n",
    "  video = open(filename,'rb').read()\n",
    "  b64 = base64.b64encode(video)\n",
    "  tag = '''\n",
    "  <video width=\"640\" height=\"480\" controls>\n",
    "    <source src=\"data:video/mp4;base64,{0}\" type=\"video/mp4\">\n",
    "  Your browser does not support the video tag.\n",
    "  </video>'''.format(b64.decode())\n",
    "\n",
    "  return IPython.display.HTML(tag)"
   ]
  },
  {
   "cell_type": "markdown",
   "metadata": {
    "colab_type": "text",
    "id": "9c_PH-pX4Pr5"
   },
   "source": [
    "Now iterate through a few episodes of the Cartpole game with the agent. The underlying Python environment (the one \"inside\" the TensorFlow environment wrapper) provides a `render()` method, which outputs an image of the environment state. These can be collected into a video."
   ]
  },
  {
   "cell_type": "code",
   "execution_count": 35,
   "metadata": {
    "colab": {},
    "colab_type": "code",
    "id": "owOVWB158NlF"
   },
   "outputs": [
    {
     "name": "stderr",
     "output_type": "stream",
     "text": [
      "WARNING:root:IMAGEIO FFMPEG_WRITER WARNING: input image is not divisible by macro_block_size=16, resizing from (400, 600) to (400, 608) to ensure video compatibility with most codecs and players. To prevent resizing, make your input image divisible by the macro_block_size or set the macro_block_size to None (risking incompatibility). You may also see a FFMPEG warning concerning speedloss due to data not being aligned.\n"
     ]
    },
    {
     "data": {
      "text/html": [
       "\n",
       "  <video width=\"640\" height=\"480\" controls>\n",
       "    <source src=\"data:video/mp4;base64,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\" type=\"video/mp4\">\n",
       "  Your browser does not support the video tag.\n",
       "  </video>"
      ],
      "text/plain": [
       "<IPython.core.display.HTML object>"
      ]
     },
     "execution_count": 35,
     "metadata": {},
     "output_type": "execute_result"
    }
   ],
   "source": [
    "def create_policy_eval_video(policy, filename, num_episodes=5, fps=30):\n",
    "  filename = filename + \".mp4\"\n",
    "  with imageio.get_writer(filename, fps=fps) as video:\n",
    "    for _ in range(num_episodes):\n",
    "      time_step = eval_env.reset()\n",
    "      video.append_data(eval_py_env.render())\n",
    "      while not time_step.is_last():\n",
    "        action_step = policy.action(time_step)\n",
    "        time_step = eval_env.step(action_step.action)\n",
    "        video.append_data(eval_py_env.render())\n",
    "  return embed_mp4(filename)\n",
    "\n",
    "\n",
    "\n",
    "\n",
    "create_policy_eval_video(agent.policy, \"trained-agent\")"
   ]
  },
  {
   "cell_type": "markdown",
   "metadata": {
    "colab_type": "text",
    "id": "povaAOcZygLw"
   },
   "source": [
    "For fun, compare the trained agent (above) to an agent moving randomly. (It does not do as well.)"
   ]
  },
  {
   "cell_type": "code",
   "execution_count": 36,
   "metadata": {
    "colab": {},
    "colab_type": "code",
    "id": "pJZIdC37yNH4"
   },
   "outputs": [
    {
     "name": "stderr",
     "output_type": "stream",
     "text": [
      "WARNING:root:IMAGEIO FFMPEG_WRITER WARNING: input image is not divisible by macro_block_size=16, resizing from (400, 600) to (400, 608) to ensure video compatibility with most codecs and players. To prevent resizing, make your input image divisible by the macro_block_size or set the macro_block_size to None (risking incompatibility). You may also see a FFMPEG warning concerning speedloss due to data not being aligned.\n"
     ]
    },
    {
     "data": {
      "text/html": [
       "\n",
       "  <video width=\"640\" height=\"480\" controls>\n",
       "    <source src=\"data:video/mp4;base64,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\" type=\"video/mp4\">\n",
       "  Your browser does not support the video tag.\n",
       "  </video>"
      ],
      "text/plain": [
       "<IPython.core.display.HTML object>"
      ]
     },
     "execution_count": 36,
     "metadata": {},
     "output_type": "execute_result"
    }
   ],
   "source": [
    "create_policy_eval_video(random_policy, \"random-agent\")"
   ]
  }
 ],
 "metadata": {
  "colab": {
   "collapsed_sections": [],
   "name": "DQN Tutorial.ipynb",
   "private_outputs": true,
   "provenance": [],
   "toc_visible": true
  },
  "kernelspec": {
   "display_name": "Python 3",
   "language": "python",
   "name": "python3"
  },
  "language_info": {
   "codemirror_mode": {
    "name": "ipython",
    "version": 3
   },
   "file_extension": ".py",
   "mimetype": "text/x-python",
   "name": "python",
   "nbconvert_exporter": "python",
   "pygments_lexer": "ipython3",
   "version": "3.6.9"
  },
  "pycharm": {
   "stem_cell": {
    "cell_type": "raw",
    "metadata": {
     "collapsed": false
    },
    "source": []
   }
  }
 },
 "nbformat": 4,
 "nbformat_minor": 0
}
